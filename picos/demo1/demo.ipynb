{
 "cells": [
  {
   "cell_type": "code",
   "execution_count": 1,
   "metadata": {},
   "outputs": [],
   "source": [
    "import torch\n",
    "import torch.nn as nn\n",
    "import torch.onnx\n",
    "from torchinfo import summary\n"
   ]
  },
  {
   "cell_type": "markdown",
   "metadata": {},
   "source": [
    "## simp network\n",
    "\n",
    "* Input shape is [batch, channels=1, height=28, width=28]\n",
    "\n",
    "* Output shape will be [batch, 4, 28, 28] (due to 4 output channels, padding=1)"
   ]
  },
  {
   "cell_type": "code",
   "execution_count": 2,
   "metadata": {},
   "outputs": [],
   "source": [
    "# Define a simple model with 1 convolutional layer\n",
    "class demoModel1(nn.Module):\n",
    "    def __init__(self):\n",
    "        super(demoModel1, self).__init__()\n",
    "        self.conv = nn.Conv2d(in_channels=1, out_channels=4, kernel_size=3, stride=1, padding=1)\n",
    "\n",
    "    def forward(self, x):\n",
    "        return self.conv(x)\n",
    "\n",
    "# Instantiate and set to eval mode\n",
    "model = demoModel1()"
   ]
  },
  {
   "cell_type": "code",
   "execution_count": 3,
   "metadata": {},
   "outputs": [
    {
     "data": {
      "text/plain": [
       "demoModel1(\n",
       "  (conv): Conv2d(1, 4, kernel_size=(3, 3), stride=(1, 1), padding=(1, 1))\n",
       ")"
      ]
     },
     "execution_count": 3,
     "metadata": {},
     "output_type": "execute_result"
    }
   ],
   "source": [
    "model.eval()"
   ]
  },
  {
   "cell_type": "code",
   "execution_count": 4,
   "metadata": {},
   "outputs": [
    {
     "data": {
      "text/plain": [
       "==========================================================================================\n",
       "Layer (type:depth-idx)                   Output Shape              Param #\n",
       "==========================================================================================\n",
       "demoModel1                               [1, 4, 28, 28]            --\n",
       "├─Conv2d: 1-1                            [1, 4, 28, 28]            40\n",
       "==========================================================================================\n",
       "Total params: 40\n",
       "Trainable params: 40\n",
       "Non-trainable params: 0\n",
       "Total mult-adds (M): 0.03\n",
       "==========================================================================================\n",
       "Input size (MB): 0.00\n",
       "Forward/backward pass size (MB): 0.03\n",
       "Params size (MB): 0.00\n",
       "Estimated Total Size (MB): 0.03\n",
       "=========================================================================================="
      ]
     },
     "execution_count": 4,
     "metadata": {},
     "output_type": "execute_result"
    }
   ],
   "source": [
    "summary(model, (1, 1, 28, 28))"
   ]
  },
  {
   "attachments": {
    "image.png": {
     "image/png": "[encoded data removed]"
    }
   },
   "cell_type": "markdown",
   "metadata": {},
   "source": [
    "![image.png](attachment:image.png)"
   ]
  },
  {
   "cell_type": "code",
   "execution_count": 5,
   "metadata": {},
   "outputs": [],
   "source": [
    "# Dummy input for export (e.g., 1 sample, 1 channel, 28x28 image)\n",
    "dummy_input = torch.randn(1, 1, 28, 28)\n",
    "\n",
    "# Export to ONNX\n",
    "torch.onnx.export(\n",
    "    model,\n",
    "    dummy_input,\n",
    "    \"demoModel1.onnx\",\n",
    "    input_names=[\"2input\"],\n",
    "    output_names=[\"output\"],\n",
    "    opset_version=19 \n",
    ")"
   ]
  },
  {
   "cell_type": "code",
   "execution_count": 6,
   "metadata": {},
   "outputs": [
    {
     "name": "stdout",
     "output_type": "stream",
     "text": [
      "-rw-rw-r-- 1 vlad vlad 468 Jun 10 11:21 demoModel1.onnx\n"
     ]
    }
   ],
   "source": [
    "!ls -lah demoModel1.onnx"
   ]
  },
  {
   "cell_type": "markdown",
   "metadata": {},
   "source": [
    "## convert1\n",
    "\n",
    "* run for 3588 \n",
    "\n",
    "```\n",
    "~/shared/genConverts$ python convert.py demoModel1.onnx  rk3588 fp  demoModel1.rknn\n",
    "W __init__: rknn-toolkit2 version: 1.6.0+81f21f4d\n",
    "[1/4] config()\n",
    "[2/4] load_onnx() demoModel1.onnx\n",
    "Loading : 100%|████████████████████████████████████████████████████| 2/2 [00:00<00:00, 27235.74it/s]\n",
    "[3/4] build() FP32\n",
    "[4/4] export_rknn() demoModel1.rknn\n",
    "✔ Done – RKNN saved at: demoModel1.rknn\n",
    "\n",
    "```"
   ]
  },
  {
   "cell_type": "markdown",
   "metadata": {},
   "source": [
    "## convert2\n",
    "\n",
    "The RV1106 NPU only supports quantized models ; need calibration dataset file (dataset.txt)\n"
   ]
  },
  {
   "cell_type": "markdown",
   "metadata": {},
   "source": [
    "run that on the host machine to generate the calibration dataset file and images\n",
    "\n",
    "``` bash\n",
    "### pip install Pillow\n",
    "import os\n",
    "from PIL import Image\n",
    "\n",
    "NUM_OF_CALS = 5\n",
    "\n",
    "# Create calibration image directory\n",
    "os.makedirs(\"calib_images\", exist_ok=True)\n",
    "\n",
    "# Generate 20 grayscale images of 28x28 pixels (constant gray)\n",
    "for i in range(NUM_OF_CALS):\n",
    "    img = Image.new(\"L\", (28, 28), color=128)  # \"L\" = grayscale mode\n",
    "    img_path = f\"calib_images/img{i}.png\"\n",
    "    img.save(img_path)\n",
    "\n",
    "# Write full paths to dataset.txt\n",
    "with open(\"dataset.txt\", \"w\") as f:\n",
    "    for i in range(NUM_OF_CALS):\n",
    "        abs_path = os.path.abspath(f\"calib_images/img{i}.png\")\n",
    "        f.write(f\"{abs_path}\\n\")\n",
    "\n",
    "print(f\"✔ Created {NUM_OF_CALS} images and dataset.txt\")\n",
    "```"
   ]
  },
  {
   "cell_type": "markdown",
   "metadata": {},
   "source": [
    "*  run for 1106"
   ]
  },
  {
   "cell_type": "markdown",
   "metadata": {},
   "source": [
    "```\n",
    "> python convert.py demoModel1.onnx  rv1106 i8  demoModel1.rknn\n",
    "W __init__: rknn-toolkit2 version: 1.6.0+81f21f4d\n",
    "[1/4] config()\n",
    "[2/4] load_onnx() demoModel1.onnx\n",
    "Loading : 100%|████████████████████████████████████████████████████| 2/2 [00:00<00:00, 26973.02it/s]\n",
    "[3/4] build() with quant\n",
    "GraphPreparing : 100%|██████████████████████████████████████████████| 1/1 [00:00<00:00, 5384.22it/s]\n",
    "Quantizating : 100%|██████████████████████████████████████████████████| 1/1 [00:00<00:00, 54.82it/s]\n",
    "W build: The default input dtype of '2input' is changed from 'float32' to 'int8' in rknn model for performance!\n",
    "                       Please take care of this change when deploy rknn model with Runtime API!\n",
    "W build: The default output dtype of 'output' is changed from 'float32' to 'int8' in rknn model for performance!\n",
    "                      Please take care of this change when deploy rknn model with Runtime API!\n",
    "[4/4] export_rknn() demoModel1.rknn\n",
    "✔ Done – RKNN saved at: demoModel1.rknn\n",
    "\n",
    "\n",
    "```"
   ]
  },
  {
   "cell_type": "markdown",
   "metadata": {},
   "source": []
  }
 ],
 "metadata": {
  "kernelspec": {
   "display_name": "pyvoice_venv",
   "language": "python",
   "name": "python3"
  },
  "language_info": {
   "codemirror_mode": {
    "name": "ipython",
    "version": 3
   },
   "file_extension": ".py",
   "mimetype": "text/x-python",
   "name": "python",
   "nbconvert_exporter": "python",
   "pygments_lexer": "ipython3",
   "version": "3.10.14"
  }
 },
 "nbformat": 4,
 "nbformat_minor": 2
}
