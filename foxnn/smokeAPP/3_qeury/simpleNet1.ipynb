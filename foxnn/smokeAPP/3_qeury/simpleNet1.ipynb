{
 "cells": [
  {
   "cell_type": "markdown",
   "metadata": {},
   "source": [
    "## simple network to test input output after rknn"
   ]
  },
  {
   "cell_type": "code",
   "execution_count": 1,
   "metadata": {},
   "outputs": [],
   "source": [
    "import os\n",
    "import numpy as np\n",
    "import torch\n",
    "import torch.nn as nn\n",
    "import torch.onnx\n"
   ]
  },
  {
   "cell_type": "markdown",
   "metadata": {},
   "source": [
    "First linear layer: output = [1+2+3+4, 1+2+3+4, 1+2+3+4] = [10, 10, 10]\n",
    "\n",
    "activation\n",
    "\n",
    "Second linear layer: output = [10+10+10, 10+10+10] = [30, 30]"
   ]
  },
  {
   "cell_type": "code",
   "execution_count": 2,
   "metadata": {},
   "outputs": [],
   "source": [
    "class NewGELUActivation(nn.Module):\n",
    "    \"\"\"\n",
    "    tanh-based approximation of GELU from Hendrycks & Gimpel (2016):\n",
    "        0.5 * x * (1 + tanh( √(2/π) · (x + 0.044715 x³) ))\n",
    "    \"\"\"\n",
    "    def forward(self, x):\n",
    "        return 0.5 * x * (1.0 + torch.tanh(\n",
    "            (torch.sqrt(torch.tensor(2.0 / torch.pi, device=x.device)) * \n",
    "             (x + 0.044715 * torch.pow(x, 3)))\n",
    "        ))\n",
    "\n",
    "class FixedNet(nn.Module):\n",
    "    def __init__(self):\n",
    "        super().__init__()\n",
    "        self.fc1 = nn.Linear(4, 3)   # 4-dim input → 3-dim hidden\n",
    "        self.act = NewGELUActivation()\n",
    "        self.fc2 = nn.Linear(3, 2)   # 3-dim hidden → 2-dim output\n",
    "\n",
    "        self._init_weights()\n",
    "\n",
    "    def _init_weights(self):\n",
    "        # All weights = 1.0, all biases = 0.0\n",
    "        with torch.no_grad():\n",
    "            self.fc1.weight.fill_(1.0)\n",
    "            self.fc1.bias.fill_(0.0)\n",
    "            self.fc2.weight.fill_(1.0)\n",
    "            self.fc2.bias.fill_(0.0)\n",
    "\n",
    "    def forward(self, x):\n",
    "        x = x.view(x.size(0), -1)\n",
    "        x = self.fc1(x)\n",
    "        x = self.act(x)\n",
    "        x = self.fc2(x)\n",
    "        return x"
   ]
  },
  {
   "cell_type": "markdown",
   "metadata": {},
   "source": [
    "## run "
   ]
  },
  {
   "cell_type": "code",
   "execution_count": 3,
   "metadata": {},
   "outputs": [
    {
     "name": "stdout",
     "output_type": "stream",
     "text": [
      "Input: tensor([[10., 10., 10., 10.]]) ; shape=torch.Size([1, 4])\n",
      "Output: tensor([[120., 120.]], grad_fn=<AddmmBackward0>) ; shape=torch.Size([1, 2])\n"
     ]
    }
   ],
   "source": [
    "model = FixedNet()\n",
    "model.eval()\n",
    "\n",
    "# Test input vector\n",
    "dummy_input = torch.tensor([[10.0, 10.0, 10.0, 10.0]])  # shape: [1, 4]\n",
    "output = model(dummy_input)\n",
    "print(f\"Input: {dummy_input} ; shape={dummy_input.shape}\")\n",
    "print(f\"Output: {output} ; shape={output.shape}\")\n"
   ]
  },
  {
   "cell_type": "markdown",
   "metadata": {},
   "source": [
    "## save"
   ]
  },
  {
   "cell_type": "code",
   "execution_count": 4,
   "metadata": {},
   "outputs": [
    {
     "name": "stderr",
     "output_type": "stream",
     "text": [
      "/tmp/ipykernel_2325408/3086398997.py:8: TracerWarning: torch.tensor results are registered as constants in the trace. You can safely ignore this warning if you use this function to create tensors out of constant variables that would be the same every time you call this function. In any other case, this might cause the trace to be incorrect.\n",
      "  (torch.sqrt(torch.tensor(2.0 / torch.pi, device=x.device)) *\n"
     ]
    }
   ],
   "source": [
    "\n",
    "# NCHW input: [1, 4, 1, 1]\n",
    "input_nchw = torch.tensor([[[[1.0]], [[2.0]], [[3.0]], [[4.0]]]], dtype=torch.float32)\n",
    "torch.onnx.export(\n",
    "    model,\n",
    "    input_nchw,\n",
    "    \"/tmp/simple_net_nchw.onnx\",\n",
    "    input_names=[\"input\"],\n",
    "    output_names=[\"output\"],\n",
    "    opset_version=11\n",
    ")\n",
    "\n",
    "# NHWC input: [1, 1, 1, 4]\n",
    "input_nhwc = torch.tensor([[[[1.0, 2.0, 3.0, 4.0]]]], dtype=torch.float32)\n",
    "torch.onnx.export(\n",
    "    model,\n",
    "    input_nhwc,\n",
    "    \"/tmp/simple_net_nhwc.onnx\",\n",
    "    input_names=[\"input\"],\n",
    "    output_names=[\"output\"],\n",
    "    opset_version=11\n",
    ")"
   ]
  },
  {
   "cell_type": "markdown",
   "metadata": {},
   "source": [
    "## cal"
   ]
  },
  {
   "cell_type": "code",
   "execution_count": 5,
   "metadata": {},
   "outputs": [],
   "source": [
    "import os\n",
    "import torch\n",
    "import numpy as np\n",
    "\n",
    "os.makedirs(\"/tmp/calib_npy/nchw\", exist_ok=True)\n",
    "os.makedirs(\"/tmp/calib_npy/nhwc\", exist_ok=True)\n",
    "\n",
    "NUM_SAMPLES = 10\n",
    "SHAPE_NCHW = (1, 4, 1, 1)   # e.g. 1 sample, 4 channels, 1x1 spatial\n",
    "SHAPE_NHWC = (1, 1, 1, 4)   # e.g. 1 sample, 1x1 spatial, 4 channels\n",
    "\n",
    "# Generate NCHW samples\n",
    "for i in range(NUM_SAMPLES):\n",
    "    data = torch.randn(*SHAPE_NCHW).numpy().astype(np.float32)\n",
    "    np.save(f\"/tmp/calib_npy/nchw/sample_{i}.npy\", data)\n",
    "\n",
    "with open(\"/tmp/dataset_nchw.txt\", \"w\") as f:\n",
    "    for i in range(NUM_SAMPLES):\n",
    "        f.write(f\"calib_npy/nchw/sample_{i}.npy\\n\")\n",
    "\n",
    "# Generate NHWC samples\n",
    "for i in range(NUM_SAMPLES):\n",
    "    data = torch.randn(*SHAPE_NHWC).numpy().astype(np.float32)\n",
    "    np.save(f\"/tmp/calib_npy/nhwc/sample_{i}.npy\", data)\n",
    "\n",
    "with open(\"/tmp/dataset_nhwc.txt\", \"w\") as f:\n",
    "    for i in range(NUM_SAMPLES):\n",
    "        f.write(f\"calib_npy/nhwc/sample_{i}.npy\\n\")\n",
    "\n"
   ]
  },
  {
   "cell_type": "markdown",
   "metadata": {},
   "source": [
    "## TEST NCHW\n",
    "\n",
    "```\n",
    "python convert.py  simple_net_nchw.onnx rv1106 i8 simple_net_nchw.rknn dataset_nchw.txt\n",
    "\n",
    "\n",
    "./rknn_query simple_net_nchw.rknn \n",
    "RKNN SDK version:   2.3.2 (429f97ae6b@2025-04-09T09:11:49)\n",
    "Driver version:     0.9.2\n",
    "Num inputs:  1\n",
    "Num outputs: 1\n",
    "\n",
    "[Input 0] Name: input, Dims: [1,1,1,4], Type: 2, Qnt Type: 2, Fmt: 1\n",
    "\n",
    "[Output 0] Name: output, Dims: [1,2,0,0], Type: 2, Qnt Type: 2, Fmt: 3\n",
    "```"
   ]
  },
  {
   "cell_type": "markdown",
   "metadata": {},
   "source": [
    "## test NHWC\n",
    "\n",
    "\n",
    "```\n",
    "python convert.py  simple_net_nhwc.onnx rv1106 i8 simple_net_nhwc.rknn dataset_nhwc.txt\n",
    "\n",
    "\n",
    "./rknn_query simple_net_nhwc.rknn \n",
    "RKNN SDK version:   2.3.2 (429f97ae6b@2025-04-09T09:11:49)\n",
    "Driver version:     0.9.2\n",
    "Num inputs:  1\n",
    "Num outputs: 1\n",
    "\n",
    "[Input 0] Name: input, Dims: [1,1,4,1], Type: 2, Qnt Type: 2, Fmt: 1\n",
    "\n",
    "[Output 0] Name: output, Dims: [1,2,0,0], Type: 2, Qnt Type: 2, Fmt: 3\n",
    "\n",
    "\n",
    "```"
   ]
  },
  {
   "cell_type": "markdown",
   "metadata": {},
   "source": [
    "# SUMMARY"
   ]
  },
  {
   "cell_type": "markdown",
   "metadata": {},
   "source": [
    "\n",
    "``` \n",
    "onnx save   NCHW input: [1, 4, 1, 1]\n",
    "rknn quer   Dims:       [1,1,1,4]\n",
    "\n",
    "\n",
    "onnx save   NHWC input: [1, 1, 1, 4]\n",
    "rknn quer   Dims:       [1,1,4,1]\n",
    "\n",
    "```"
   ]
  },
  {
   "cell_type": "markdown",
   "metadata": {},
   "source": [
    "* NHWC [1, 1, 1, 4], but RKNN interprets it differently (e.g., [1, 1, 4, 1]), often due to tensor shape optimization inside the model graph."
   ]
  },
  {
   "attachments": {
    "image.png": {
     "image/png": "[encoded data removed]"
    }
   },
   "cell_type": "markdown",
   "metadata": {},
   "source": [
    "![image.png](attachment:image.png)"
   ]
  },
  {
   "cell_type": "markdown",
   "metadata": {},
   "source": []
  }
 ],
 "metadata": {
  "kernelspec": {
   "display_name": "pyvoice_venv",
   "language": "python",
   "name": "python3"
  },
  "language_info": {
   "codemirror_mode": {
    "name": "ipython",
    "version": 3
   },
   "file_extension": ".py",
   "mimetype": "text/x-python",
   "name": "python",
   "nbconvert_exporter": "python",
   "pygments_lexer": "ipython3",
   "version": "3.10.14"
  }
 },
 "nbformat": 4,
 "nbformat_minor": 2
}
